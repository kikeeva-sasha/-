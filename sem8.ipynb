{
 "cells": [
  {
   "cell_type": "code",
   "execution_count": 40,
   "id": "aa179266",
   "metadata": {},
   "outputs": [
    {
     "name": "stdout",
     "output_type": "stream",
     "text": [
      "[1, 3, 3, 2, 1, 3]\n",
      "4\n",
      "[0, 4, -4, -9, 0, 55, 18, -7]\n",
      "[2, 4, 0, 11, 3]\n",
      "[2, 4, -2, -3, 0, 11, 3, -1]\n",
      "{'a': 0, 'b': 1, 'c': 2, 'd': 3, 'e': 4, 'f': 5}\n",
      "{'a': 2, 'b': 1, 'c': 1, 'd': 1, 'e': 1, 't': 2, 'm': 1}\n",
      "{'a': 2, 'b': 1, 'c': 1, 'd': 1, 'e': 1, 't': 2, 'm': 1}\n",
      "{160, 90, 40, 360, 10, 250}\n",
      "{'h': 23, 'i': 24, 'j': 25, 'k': 26, 'l': 27}\n"
     ]
    }
   ],
   "source": [
    "l1 = ['1', '123', '123', '12', '1', '123']\n",
    "l2 = [2, 4, -2, -3, 0 , 11 , 3, -1]\n",
    "\n",
    "d4 = {1: 10, 2: 20, 3: 30, 4: 40, 5: 50, 6: 60}\n",
    "d5 = {'a': 3, 'b': 4, 'c': 5, 'd': 6, 'e': 7, 'f': 8, 'g': 9}\n",
    "d6 = {'e': 20, 'f': 21, 'g': 22, 'h': 23, 'i': 24, 'j': 25, 'k': 26, 'l': 27}\n",
    "\n",
    "#1\n",
    "print([len(l1[i]) for i in range(len(l1))])\n",
    "#2\n",
    "print(len([l1[i] for i in range(len(l1)) if len(l1[i])>=2]))\n",
    "#3\n",
    "print([int(i)*l2[i] for i in range(len(l2))])\n",
    "#4\n",
    "print([l2[i] for i in range(len(l2)) if l2[i]>=0])\n",
    "#5\n",
    "print([l2.index(j) if j<0 else l2[j] for j in range(len(l2))])\n",
    "#6\n",
    "#string=input()\n",
    "print({char: index for index, char in enumerate(string)})\n",
    "#8\n",
    "print({i: 'aabcdettm'.count(i) for i in 'aabcdettm'})\n",
    "#9\n",
    "print({i: 'aabcXDFGRFdettm'.count(i) for i in 'aabcdettm' if i == i.lower()})\n",
    "#10\n",
    "d4={1:10, 2:20, 3:30,4:40, 5:50, 6:60}\n",
    "print(({i*d4[i] for i in d4}))\n",
    "#11\n",
    "d6 = {'e':20,'f':21,'g':22,'h':23,'i':24,'j':25,'k':26,'l':27}\n",
    "d5 = {'a':3,'b':4,'c':5, 'd':6,'e':7,'f':8,'g':9}\n",
    "print({i:d6[i] for i in d6 if i not in d5})\n"
   ]
  },
  {
   "cell_type": "code",
   "execution_count": 42,
   "id": "4207bae8",
   "metadata": {},
   "outputs": [
    {
     "name": "stdout",
     "output_type": "stream",
     "text": [
      "{}\n"
     ]
    }
   ],
   "source": [
    "#12\n",
    "d5 = {'a':3, 'b':4,'c':5,'d':6, 'e':7, 'f':8,'g':9}\n",
    "d6 = {'e':20, 'f':21, 'g':22,'h':23, 'i':24, 'j':25,'k':26,'l':27}\n",
    "print({})"
   ]
  },
  {
   "cell_type": "code",
   "execution_count": null,
   "id": "6335c2cc",
   "metadata": {},
   "outputs": [],
   "source": []
  }
 ],
 "metadata": {
  "kernelspec": {
   "display_name": "Python 3 (ipykernel)",
   "language": "python",
   "name": "python3"
  },
  "language_info": {
   "codemirror_mode": {
    "name": "ipython",
    "version": 3
   },
   "file_extension": ".py",
   "mimetype": "text/x-python",
   "name": "python",
   "nbconvert_exporter": "python",
   "pygments_lexer": "ipython3",
   "version": "3.11.4"
  }
 },
 "nbformat": 4,
 "nbformat_minor": 5
}
